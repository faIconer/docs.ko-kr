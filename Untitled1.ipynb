{
  "nbformat": 4,
  "nbformat_minor": 0,
  "metadata": {
    "colab": {
      "name": "Untitled1.ipynb",
      "provenance": [],
      "authorship_tag": "ABX9TyPrE/io9XgdejCVNLIbBgx6",
      "include_colab_link": true
    },
    "kernelspec": {
      "name": "python3",
      "display_name": "Python 3"
    }
  },
  "cells": [
    {
      "cell_type": "markdown",
      "metadata": {
        "id": "view-in-github",
        "colab_type": "text"
      },
      "source": [
        "<a href=\"https://colab.research.google.com/github/faIconer/docs.ko-kr/blob/master/Untitled1.ipynb\" target=\"_parent\"><img src=\"https://colab.research.google.com/assets/colab-badge.svg\" alt=\"Open In Colab\"/></a>"
      ]
    },
    {
      "cell_type": "code",
      "metadata": {
        "id": "ysJOmrHatMG7"
      },
      "source": [
        "from datetime import datetime\r\n",
        "import pandas_datareader.data as wb\r\n",
        " \r\n",
        "start = datetime(2019,12,9)\r\n",
        "end = datetime(2020,12,8)\r\n",
        " \r\n",
        "df = wb.DataReader('005930.KS', 'yahoo',start,end)"
      ],
      "execution_count": null,
      "outputs": []
    }
  ]
}